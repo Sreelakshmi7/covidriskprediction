{
 "cells": [
  {
   "cell_type": "code",
   "execution_count": 1,
   "metadata": {},
   "outputs": [
    {
     "data": {
      "text/html": [
       "<div>\n",
       "<style scoped>\n",
       "    .dataframe tbody tr th:only-of-type {\n",
       "        vertical-align: middle;\n",
       "    }\n",
       "\n",
       "    .dataframe tbody tr th {\n",
       "        vertical-align: top;\n",
       "    }\n",
       "\n",
       "    .dataframe thead th {\n",
       "        text-align: right;\n",
       "    }\n",
       "</style>\n",
       "<table border=\"1\" class=\"dataframe\">\n",
       "  <thead>\n",
       "    <tr style=\"text-align: right;\">\n",
       "      <th></th>\n",
       "      <th>sex</th>\n",
       "      <th>age</th>\n",
       "      <th>inmsupr</th>\n",
       "      <th>pneumonia</th>\n",
       "      <th>diabetes</th>\n",
       "      <th>asthma</th>\n",
       "      <th>copd</th>\n",
       "      <th>hypertension</th>\n",
       "      <th>cardiovascular</th>\n",
       "      <th>renal_chronic</th>\n",
       "      <th>obesity</th>\n",
       "      <th>tobacco</th>\n",
       "      <th>days_prior_to_treatment</th>\n",
       "      <th>intubed</th>\n",
       "      <th>icu</th>\n",
       "      <th>dead</th>\n",
       "    </tr>\n",
       "  </thead>\n",
       "  <tbody>\n",
       "    <tr>\n",
       "      <th>0</th>\n",
       "      <td>0</td>\n",
       "      <td>56</td>\n",
       "      <td>0</td>\n",
       "      <td>1</td>\n",
       "      <td>0</td>\n",
       "      <td>0</td>\n",
       "      <td>0</td>\n",
       "      <td>0</td>\n",
       "      <td>0</td>\n",
       "      <td>0</td>\n",
       "      <td>0</td>\n",
       "      <td>0</td>\n",
       "      <td>8</td>\n",
       "      <td>0</td>\n",
       "      <td>0</td>\n",
       "      <td>0</td>\n",
       "    </tr>\n",
       "    <tr>\n",
       "      <th>1</th>\n",
       "      <td>0</td>\n",
       "      <td>55</td>\n",
       "      <td>0</td>\n",
       "      <td>0</td>\n",
       "      <td>0</td>\n",
       "      <td>0</td>\n",
       "      <td>0</td>\n",
       "      <td>0</td>\n",
       "      <td>0</td>\n",
       "      <td>0</td>\n",
       "      <td>0</td>\n",
       "      <td>0</td>\n",
       "      <td>4</td>\n",
       "      <td>0</td>\n",
       "      <td>0</td>\n",
       "      <td>0</td>\n",
       "    </tr>\n",
       "    <tr>\n",
       "      <th>2</th>\n",
       "      <td>0</td>\n",
       "      <td>75</td>\n",
       "      <td>0</td>\n",
       "      <td>1</td>\n",
       "      <td>0</td>\n",
       "      <td>0</td>\n",
       "      <td>0</td>\n",
       "      <td>0</td>\n",
       "      <td>0</td>\n",
       "      <td>0</td>\n",
       "      <td>0</td>\n",
       "      <td>0</td>\n",
       "      <td>8</td>\n",
       "      <td>0</td>\n",
       "      <td>0</td>\n",
       "      <td>0</td>\n",
       "    </tr>\n",
       "    <tr>\n",
       "      <th>3</th>\n",
       "      <td>0</td>\n",
       "      <td>47</td>\n",
       "      <td>0</td>\n",
       "      <td>1</td>\n",
       "      <td>1</td>\n",
       "      <td>0</td>\n",
       "      <td>0</td>\n",
       "      <td>0</td>\n",
       "      <td>0</td>\n",
       "      <td>0</td>\n",
       "      <td>0</td>\n",
       "      <td>0</td>\n",
       "      <td>0</td>\n",
       "      <td>0</td>\n",
       "      <td>0</td>\n",
       "      <td>1</td>\n",
       "    </tr>\n",
       "    <tr>\n",
       "      <th>4</th>\n",
       "      <td>1</td>\n",
       "      <td>42</td>\n",
       "      <td>0</td>\n",
       "      <td>1</td>\n",
       "      <td>0</td>\n",
       "      <td>0</td>\n",
       "      <td>0</td>\n",
       "      <td>1</td>\n",
       "      <td>0</td>\n",
       "      <td>1</td>\n",
       "      <td>0</td>\n",
       "      <td>0</td>\n",
       "      <td>7</td>\n",
       "      <td>0</td>\n",
       "      <td>0</td>\n",
       "      <td>1</td>\n",
       "    </tr>\n",
       "  </tbody>\n",
       "</table>\n",
       "</div>"
      ],
      "text/plain": [
       "   sex  age  inmsupr  pneumonia  diabetes  asthma  copd  hypertension  \\\n",
       "0    0   56        0          1         0       0     0             0   \n",
       "1    0   55        0          0         0       0     0             0   \n",
       "2    0   75        0          1         0       0     0             0   \n",
       "3    0   47        0          1         1       0     0             0   \n",
       "4    1   42        0          1         0       0     0             1   \n",
       "\n",
       "   cardiovascular  renal_chronic  obesity  tobacco  days_prior_to_treatment  \\\n",
       "0               0              0        0        0                        8   \n",
       "1               0              0        0        0                        4   \n",
       "2               0              0        0        0                        8   \n",
       "3               0              0        0        0                        0   \n",
       "4               0              1        0        0                        7   \n",
       "\n",
       "   intubed  icu  dead  \n",
       "0        0    0     0  \n",
       "1        0    0     0  \n",
       "2        0    0     0  \n",
       "3        0    0     1  \n",
       "4        0    0     1  "
      ]
     },
     "execution_count": 1,
     "metadata": {},
     "output_type": "execute_result"
    }
   ],
   "source": [
    "import pandas as pd\n",
    "import numpy as np\n",
    "\n",
    "df = pd.read_csv('dataset_1.7L.csv')\n",
    "df.head()"
   ]
  },
  {
   "cell_type": "code",
   "execution_count": 2,
   "metadata": {},
   "outputs": [],
   "source": [
    "X = df.drop(['intubed','icu','dead'], axis=1)\n",
    "y = df['intubed']"
   ]
  },
  {
   "cell_type": "code",
   "execution_count": 3,
   "metadata": {},
   "outputs": [],
   "source": [
    "from sklearn.preprocessing import StandardScaler\n",
    "\n",
    "scaler = StandardScaler()\n",
    "X = scaler.fit_transform(X)"
   ]
  },
  {
   "cell_type": "code",
   "execution_count": 4,
   "metadata": {},
   "outputs": [],
   "source": [
    "import pickle\n",
    "\n",
    "pickle.dump(scaler, open('intubed_scaler.sav', 'wb'))"
   ]
  },
  {
   "cell_type": "code",
   "execution_count": 5,
   "metadata": {},
   "outputs": [
    {
     "name": "stdout",
     "output_type": "stream",
     "text": [
      "Before oversampling:  Counter({0: 146074, 1: 31008})\n",
      "After oversampling:  Counter({0: 146074, 1: 146074})\n"
     ]
    }
   ],
   "source": [
    "\n",
    "\n",
    "from imblearn.over_sampling import SMOTE\n",
    "from collections import Counter\n",
    "\n",
    "print(\"Before oversampling: \",Counter(y))\n",
    "SMOTE = SMOTE()\n",
    "X, y = SMOTE.fit_resample(X, y)\n",
    "print(\"After oversampling: \",Counter(y))"
   ]
  },
  {
   "cell_type": "code",
   "execution_count": 6,
   "metadata": {},
   "outputs": [],
   "source": [
    "from sklearn.model_selection import train_test_split\n",
    "\n",
    "X_train, X_test, Y_train, Y_test = train_test_split(X, y, test_size=0.2)"
   ]
  },
  {
   "cell_type": "code",
   "execution_count": 7,
   "metadata": {},
   "outputs": [
    {
     "data": {
      "text/plain": [
       "SVC()"
      ]
     },
     "execution_count": 7,
     "metadata": {},
     "output_type": "execute_result"
    }
   ],
   "source": [
    "from sklearn.svm import SVC\n",
    "\n",
    "clf_svm = SVC()\n",
    "clf_svm.fit(X_train, Y_train)"
   ]
  },
  {
   "cell_type": "code",
   "execution_count": 8,
   "metadata": {},
   "outputs": [],
   "source": [
    "pickle.dump(clf_svm, open('intubed_svm.sav', 'wb'))"
   ]
  },
  {
   "cell_type": "code",
   "execution_count": 9,
   "metadata": {},
   "outputs": [
    {
     "name": "stdout",
     "output_type": "stream",
     "text": [
      "train Accuracy = 0.6070777603778913\n",
      "test Accuracy = 0.6055793256888584\n",
      "Confusion Matrix\n",
      "[[13827 15356]\n",
      " [ 7690 21557]]\n",
      "Classification Report\n",
      "              precision    recall  f1-score   support\n",
      "\n",
      "           0       0.64      0.47      0.55     29183\n",
      "           1       0.58      0.74      0.65     29247\n",
      "\n",
      "    accuracy                           0.61     58430\n",
      "   macro avg       0.61      0.61      0.60     58430\n",
      "weighted avg       0.61      0.61      0.60     58430\n",
      "\n"
     ]
    }
   ],
   "source": [
    "from sklearn.metrics import accuracy_score, confusion_matrix, classification_report\n",
    "\n",
    "preds_svm = clf_svm.predict(X_test)\n",
    "\n",
    "print(\"train Accuracy = {}\".format(accuracy_score(Y_train, clf_svm.predict(X_train))))\n",
    "print(\"test Accuracy = {}\".format(accuracy_score(Y_test, preds_svm)))\n",
    "print(\"Confusion Matrix\")\n",
    "print(confusion_matrix(Y_test, preds_svm))\n",
    "print(\"Classification Report\")\n",
    "print(classification_report(Y_test, preds_svm))"
   ]
  },
  {
   "cell_type": "code",
   "execution_count": 10,
   "metadata": {},
   "outputs": [
    {
     "data": {
      "text/plain": [
       "RandomForestClassifier()"
      ]
     },
     "execution_count": 10,
     "metadata": {},
     "output_type": "execute_result"
    }
   ],
   "source": [
    "from sklearn.ensemble import RandomForestClassifier\n",
    "\n",
    "clf_rf = RandomForestClassifier()\n",
    "clf_rf.fit(X_train, Y_train)"
   ]
  },
  {
   "cell_type": "code",
   "execution_count": 11,
   "metadata": {},
   "outputs": [],
   "source": [
    "pickle.dump(clf_rf, open('intubed_rf.sav', 'wb'))"
   ]
  },
  {
   "cell_type": "code",
   "execution_count": 12,
   "metadata": {},
   "outputs": [
    {
     "name": "stdout",
     "output_type": "stream",
     "text": [
      "train Accuracy = 0.8409365132338973\n",
      "test Accuracy = 0.7414855382508985\n",
      "Confusion Matrix\n",
      "[[22043  7140]\n",
      " [ 7965 21282]]\n",
      "Classification Report\n",
      "              precision    recall  f1-score   support\n",
      "\n",
      "           0       0.73      0.76      0.74     29183\n",
      "           1       0.75      0.73      0.74     29247\n",
      "\n",
      "    accuracy                           0.74     58430\n",
      "   macro avg       0.74      0.74      0.74     58430\n",
      "weighted avg       0.74      0.74      0.74     58430\n",
      "\n"
     ]
    }
   ],
   "source": [
    "preds_rf = clf_rf.predict(X_test)\n",
    "\n",
    "print(\"train Accuracy = {}\".format(accuracy_score(Y_train, clf_rf.predict(X_train))))\n",
    "print(\"test Accuracy = {}\".format(accuracy_score(Y_test, preds_rf)))\n",
    "print(\"Confusion Matrix\")\n",
    "print(confusion_matrix(Y_test, preds_rf))\n",
    "print(\"Classification Report\")\n",
    "print(classification_report(Y_test, preds_rf))"
   ]
  },
  {
   "cell_type": "code",
   "execution_count": 13,
   "metadata": {},
   "outputs": [
    {
     "data": {
      "text/plain": [
       "LogisticRegression()"
      ]
     },
     "execution_count": 13,
     "metadata": {},
     "output_type": "execute_result"
    }
   ],
   "source": [
    "from sklearn.linear_model import LogisticRegression\n",
    "\n",
    "clf_lr = LogisticRegression()\n",
    "clf_lr.fit(X_train, Y_train)"
   ]
  },
  {
   "cell_type": "code",
   "execution_count": 14,
   "metadata": {},
   "outputs": [],
   "source": [
    "pickle.dump(clf_lr, open('intubed_lr.sav', 'wb'))"
   ]
  },
  {
   "cell_type": "code",
   "execution_count": 15,
   "metadata": {},
   "outputs": [
    {
     "name": "stdout",
     "output_type": "stream",
     "text": [
      "train Accuracy = 0.5970314652701119\n",
      "test Accuracy = 0.5981858634263221\n",
      "Confusion Matrix\n",
      "[[14353 14830]\n",
      " [ 8648 20599]]\n",
      "Classification Report\n",
      "              precision    recall  f1-score   support\n",
      "\n",
      "           0       0.62      0.49      0.55     29183\n",
      "           1       0.58      0.70      0.64     29247\n",
      "\n",
      "    accuracy                           0.60     58430\n",
      "   macro avg       0.60      0.60      0.59     58430\n",
      "weighted avg       0.60      0.60      0.59     58430\n",
      "\n"
     ]
    }
   ],
   "source": [
    "preds_lr = clf_lr.predict(X_test)\n",
    "\n",
    "print(\"train Accuracy = {}\".format(accuracy_score(Y_train, clf_lr.predict(X_train))))\n",
    "print(\"test Accuracy = {}\".format(accuracy_score(Y_test, preds_lr)))\n",
    "print(\"Confusion Matrix\")\n",
    "print(confusion_matrix(Y_test, preds_lr))\n",
    "print(\"Classification Report\")\n",
    "print(classification_report(Y_test, preds_lr))"
   ]
  },
  {
   "cell_type": "code",
   "execution_count": 16,
   "metadata": {},
   "outputs": [
    {
     "name": "stderr",
     "output_type": "stream",
     "text": [
      "C:\\ProgramData\\Anaconda3\\lib\\site-packages\\xgboost\\sklearn.py:1146: UserWarning: The use of label encoder in XGBClassifier is deprecated and will be removed in a future release. To remove this warning, do the following: 1) Pass option use_label_encoder=False when constructing XGBClassifier object; and 2) Encode your labels (y) as integers starting with 0, i.e. 0, 1, 2, ..., [num_class - 1].\n",
      "  warnings.warn(label_encoder_deprecation_msg, UserWarning)\n"
     ]
    },
    {
     "name": "stdout",
     "output_type": "stream",
     "text": [
      "[15:21:40] WARNING: C:/Users/Administrator/workspace/xgboost-win64_release_1.4.0/src/learner.cc:1095: Starting in XGBoost 1.3.0, the default evaluation metric used with the objective 'binary:logistic' was changed from 'error' to 'logloss'. Explicitly set eval_metric if you'd like to restore the old behavior.\n"
     ]
    },
    {
     "data": {
      "text/plain": [
       "XGBClassifier(base_score=0.5, booster='gbtree', colsample_bylevel=1,\n",
       "              colsample_bynode=1, colsample_bytree=1, gamma=0, gpu_id=-1,\n",
       "              importance_type='gain', interaction_constraints='',\n",
       "              learning_rate=0.300000012, max_delta_step=0, max_depth=6,\n",
       "              min_child_weight=1, missing=nan, monotone_constraints='()',\n",
       "              n_estimators=100, n_jobs=8, num_parallel_tree=1, random_state=0,\n",
       "              reg_alpha=0, reg_lambda=1, scale_pos_weight=1, subsample=1,\n",
       "              tree_method='exact', validate_parameters=1, verbosity=None)"
      ]
     },
     "execution_count": 16,
     "metadata": {},
     "output_type": "execute_result"
    }
   ],
   "source": [
    "from xgboost import XGBClassifier\n",
    "\n",
    "clf_xgb = XGBClassifier()\n",
    "clf_xgb.fit(X_train, Y_train)"
   ]
  },
  {
   "cell_type": "code",
   "execution_count": 17,
   "metadata": {},
   "outputs": [],
   "source": [
    "pickle.dump(clf_xgb, open('intubed_xgb.sav', 'wb'))"
   ]
  },
  {
   "cell_type": "code",
   "execution_count": 18,
   "metadata": {},
   "outputs": [
    {
     "name": "stdout",
     "output_type": "stream",
     "text": [
      "train Accuracy = 0.7718147511103124\n",
      "test Accuracy = 0.7671401677220606\n",
      "Confusion Matrix\n",
      "[[24257  4926]\n",
      " [ 8680 20567]]\n",
      "Classification Report\n",
      "              precision    recall  f1-score   support\n",
      "\n",
      "           0       0.74      0.83      0.78     29183\n",
      "           1       0.81      0.70      0.75     29247\n",
      "\n",
      "    accuracy                           0.77     58430\n",
      "   macro avg       0.77      0.77      0.77     58430\n",
      "weighted avg       0.77      0.77      0.77     58430\n",
      "\n"
     ]
    }
   ],
   "source": [
    "preds_xgb = clf_xgb.predict(X_test)\n",
    "\n",
    "print(\"train Accuracy = {}\".format(accuracy_score(Y_train, clf_xgb.predict(X_train))))\n",
    "print(\"test Accuracy = {}\".format(accuracy_score(Y_test, preds_xgb)))\n",
    "print(\"Confusion Matrix\")\n",
    "print(confusion_matrix(Y_test, preds_xgb))\n",
    "print(\"Classification Report\")\n",
    "print(classification_report(Y_test, preds_xgb))"
   ]
  },
  {
   "cell_type": "code",
   "execution_count": null,
   "metadata": {},
   "outputs": [],
   "source": []
  },
  {
   "cell_type": "code",
   "execution_count": null,
   "metadata": {},
   "outputs": [],
   "source": []
  },
  {
   "cell_type": "code",
   "execution_count": null,
   "metadata": {},
   "outputs": [],
   "source": []
  }
 ],
 "metadata": {
  "kernelspec": {
   "display_name": "Python 3",
   "language": "python",
   "name": "python3"
  },
  "language_info": {
   "codemirror_mode": {
    "name": "ipython",
    "version": 3
   },
   "file_extension": ".py",
   "mimetype": "text/x-python",
   "name": "python",
   "nbconvert_exporter": "python",
   "pygments_lexer": "ipython3",
   "version": "3.6.5"
  }
 },
 "nbformat": 4,
 "nbformat_minor": 5
}
